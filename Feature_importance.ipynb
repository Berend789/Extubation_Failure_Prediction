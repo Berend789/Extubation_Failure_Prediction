{
 "metadata": {
  "language_info": {
   "codemirror_mode": {
    "name": "ipython",
    "version": 3
   },
   "file_extension": ".py",
   "mimetype": "text/x-python",
   "name": "python",
   "nbconvert_exporter": "python",
   "pygments_lexer": "ipython3",
   "version": "3.7.9"
  },
  "orig_nbformat": 4,
  "kernelspec": {
   "name": "python3",
   "display_name": "Python 3.7.9 64-bit ('base': conda)"
  },
  "interpreter": {
   "hash": "3b7e431a861a72513f361682db481bb043ab213b57189a56d42fe6b32fa57c58"
  }
 },
 "nbformat": 4,
 "nbformat_minor": 2,
 "cells": [
  {
   "cell_type": "code",
   "execution_count": 1,
   "source": [
    "import gc\r\n",
    "from all_stand_var import conv_dict, lab_cols, vent_cols3\r\n",
    "from all_own_funct import memory_downscale,memory_upscale\r\n",
    "import os\r\n",
    "import pandas as pd\r\n",
    "import numpy as np\r\n",
    "import matplotlib.pyplot as plt\r\n",
    "from matplotlib.colors import ListedColormap\r\n",
    "import seaborn as sns\r\n",
    "from seaborn import heatmap\r\n",
    "from sklearn.metrics import roc_curve, accuracy_score, roc_auc_score\r\n",
    "from sklearn.metrics import classification_report, confusion_matrix\r\n",
    "from scipy.stats import kurtosis\r\n",
    "from matplotlib.backends.backend_pdf import PdfPages\r\n",
    "import keras.backend as K\r\n",
    "from RNN_LTSM_CHD import return_loaded_model\r\n",
    "import pickle\r\n",
    "import locale\r\n",
    "import LR_build_CHD as pp\r\n",
    "import tables\r\n",
    "import pickle\r\n",
    "\r\n",
    "from sklearn.metrics import roc_curve, accuracy_score, roc_auc_score\r\n",
    "from sklearn.metrics import classification_report, confusion_matrix\r\n",
    "\r\n",
    "\r\n",
    "locale.setlocale(locale.LC_ALL, 'fr_FR')\r\n",
    "# Set ouput_folder\r\n",
    "output_folder = os.path.join(os.getcwd(), 'Results_LR_RF_CHD_v3','12u_result')\r\n",
    "\r\n",
    "    \r\n",
    "# Load in files from output folder\r\n",
    "f = open(os.path.join(output_folder,'ran_for.sav'), 'rb')\r\n",
    "best_rf=pickle.load(f)\r\n",
    "f.close()\r\n",
    "\r\n",
    "f = open(os.path.join(output_folder,'log_reg.sav'), 'rb')\r\n",
    "best_lr=pickle.load(f)\r\n",
    "f.close()\r\n",
    "\r\n",
    "f = open(os.path.join(output_folder,'x_train.txt'), 'rb')\r\n",
    "X_TRAIN=pickle.load(f)\r\n",
    "f.close()\r\n",
    "\r\n",
    "f = open(os.path.join(output_folder,'x_test.txt'), 'rb')\r\n",
    "X_TEST=pickle.load(f)\r\n",
    "f.close()\r\n",
    "f = open(os.path.join(output_folder,'y_train.txt'), 'rb')\r\n",
    "Y_TRAIN=pickle.load(f)\r\n",
    "f.close()\r\n",
    "f = open(os.path.join(output_folder,'y_test.txt'), 'rb')\r\n",
    "Y_TEST=pickle.load(f)\r\n",
    "f.close()"
   ],
   "outputs": [
    {
     "output_type": "stream",
     "name": "stderr",
     "text": [
      "C:\\Users\\berend\\Anaconda3\\lib\\site-packages\\numpy\\_distributor_init.py:32: UserWarning: loaded more than 1 DLL from .libs:\n",
      "C:\\Users\\berend\\Anaconda3\\lib\\site-packages\\numpy\\.libs\\libopenblas.NOIJJG62EMASZI6NYURL6JBKM4EVBGM7.gfortran-win_amd64.dll\n",
      "C:\\Users\\berend\\Anaconda3\\lib\\site-packages\\numpy\\.libs\\libopenblas.PYQHXLVVQ7VESDPUVUADXEVJOBGHJPAY.gfortran-win_amd64.dll\n",
      "C:\\Users\\berend\\Anaconda3\\lib\\site-packages\\numpy\\.libs\\libopenblas.WCDJNK7YVMPZQ2ME2ZZHJJRJ3JIKNDB7.gfortran-win_amd64.dll\n",
      "  stacklevel=1)\n"
     ]
    }
   ],
   "metadata": {}
  },
  {
   "cell_type": "code",
   "execution_count": 2,
   "source": [
    "# Calculate feature importance for logistic regression\r\n",
    "clf=best_lr\r\n",
    "float_columns = list(X_TRAIN.columns)\r\n",
    "\r\n",
    "# create pdf with all figures\r\n",
    "try:\r\n",
    "    pdf = PdfPages(os.path.join(output_folder,f\"Figures_importance_prob.pdf\"))\r\n",
    "except PermissionError:\r\n",
    "    os.remove(os.path.join(output_folder,f\"Figures_importance_prob.pdf\"))\r\n",
    "\r\n",
    "# calculate coefficients\r\n",
    "try:\r\n",
    "    coefs = clf.coef_.flatten()\r\n",
    "except:\r\n",
    "    coefs=clf.feature_importances_\r\n",
    "\r\n",
    "# Zip coefficients and names together and make a DataFrame\r\n",
    "zipped = zip(float_columns, coefs)\r\n",
    "df = pd.DataFrame(zipped, columns=[\"feature\", \"value\"])\r\n",
    "# Sort the features by the absolute value of their coefficient\r\n",
    "df[\"abs_value\"] = df[\"value\"].apply(lambda x: abs(x))\r\n",
    "df[\"colors\"] = df[\"value\"].apply(lambda x: \"green\" if x > 0 else \"red\")\r\n",
    "df = df.sort_values(\"abs_value\", ascending=False)\r\n",
    "\r\n",
    "\r\n",
    "import seaborn as sns\r\n",
    "fig, ax = plt.subplots(1, 1,figsize=(14,16))\r\n",
    "sns.barplot(x=\"feature\",\r\n",
    "            y=\"value\",\r\n",
    "            data=df.head(10),\r\n",
    "            palette=df.head(10)[\"colors\"])\r\n",
    "ax.set_xticklabels(ax.get_xticklabels(), rotation=65, fontsize=18)\r\n",
    "ax.set_title(\"Top 10 Features for best logistic regression model\", fontsize=18)\r\n",
    "ax.set_ylabel(\"Coef\", fontsize=18)\r\n",
    "ax.set_xlabel(\"Feature Name\", fontsize=18)\r\n",
    "fig=plt.gcf()\r\n",
    "plt.savefig(os.path.join(output_folder,'Feature_importance.png'), format='png',\r\n",
    "             dpi=300, facecolor='white', transparent=True, bbox_inches='tight')\r\n",
    "pdf.savefig(fig)\r\n",
    "plt.close(fig) \r\n"
   ],
   "outputs": [
    {
     "output_type": "stream",
     "name": "stdout",
     "text": [
      "['pat_weight_act_mean', 'pat_weight_act_std', 'pat_weight_act_lin_reg_coef', 'mon_etco2_mean', 'mon_etco2_std', 'mon_etco2_lin_reg_coef', 'mon_hr_mean', 'mon_hr_std', 'mon_hr_lin_reg_coef', 'mon_ibp_mean_mean', 'mon_ibp_mean_std', 'mon_ibp_mean_lin_reg_coef', 'mon_rr_mean', 'mon_rr_std', 'mon_rr_lin_reg_coef', 'mon_sat_mean', 'mon_sat_std', 'mon_sat_lin_reg_coef', 'vent_m_fio2_mean', 'vent_m_fio2_std', 'vent_m_fio2_lin_reg_coef', 'vent_m_peep_mean', 'vent_m_peep_std', 'vent_m_peep_lin_reg_coef', 'vent_m_ppeak_mean', 'vent_m_ppeak_std', 'vent_m_ppeak_lin_reg_coef', 'vent_m_rr_mean', 'vent_m_rr_std', 'vent_m_rr_lin_reg_coef', 'vent_m_tv_exp_mean', 'vent_m_tv_exp_std', 'vent_m_tv_exp_lin_reg_coef', 'Age_mean', 'Age_std', 'Age_lin_reg_coef', 'Diagnose_mean', 'Diagnose_std', 'Diagnose_lin_reg_coef', 'mis_mean', 'mis_std', 'mis_lin_reg_coef']\n"
     ]
    }
   ],
   "metadata": {}
  },
  {
   "cell_type": "code",
   "execution_count": 4,
   "source": [
    "# Calculate feature importance for Random forest\r\n",
    "clf=best_rf\r\n",
    "\r\n",
    "try:\r\n",
    "    coefs = clf.coef_.flatten()\r\n",
    "except:\r\n",
    "    coefs=clf.feature_importances_\r\n",
    "\r\n",
    "# Zip coefficients and names together and make a DataFrame\r\n",
    "zipped = zip(float_columns, coefs)\r\n",
    "df = pd.DataFrame(zipped, columns=[\"feature\", \"value\"])\r\n",
    "# Sort the features by the absolute value of their coefficient\r\n",
    "df[\"abs_value\"] = df[\"value\"].apply(lambda x: abs(x))\r\n",
    "df[\"colors\"] = df[\"value\"].apply(lambda x: \"green\" if x > 0 else \"red\")\r\n",
    "df = df.sort_values(\"abs_value\", ascending=False)\r\n",
    "\r\n",
    "\r\n",
    "import seaborn as sns\r\n",
    "fig, ax = plt.subplots(1, 1, figsize=(10, 8))\r\n",
    "sns.barplot(x=\"feature\",\r\n",
    "            y=\"value\",\r\n",
    "            data=df.head(10),\r\n",
    "            palette=df.head(10)[\"colors\"])\r\n",
    "ax.set_xticklabels(ax.get_xticklabels(), rotation=65, fontsize=14)\r\n",
    "ax.set_title(\"Top 10 Features for best random forest model\", fontsize=18)\r\n",
    "ax.set_ylabel(\"Coef\", fontsize=18)\r\n",
    "ax.set_xlabel(\"Feature Name\", fontsize=18)\r\n",
    "print(df[\"feature\"].head(20).tolist())\r\n",
    "plt.tight_layout()\r\n",
    "fig=plt.gcf()\r\n",
    "plt.savefig(os.path.join(output_folder,'Feature_importance_rf.png'), format='png',\r\n",
    "             dpi=300, facecolor='white', transparent=True, bbox_inches='tight')\r\n",
    "pdf.savefig(fig)\r\n",
    "plt.close(fig) \r\n"
   ],
   "outputs": [
    {
     "output_type": "stream",
     "name": "stdout",
     "text": [
      "['mon_hr_mean', 'pat_weight_act_mean', 'vent_m_peep_lin_reg_coef', 'vent_m_rr_mean', 'mon_etco2_mean', 'Age_mean', 'mon_rr_mean', 'mon_hr_std', 'vent_m_tv_exp_mean', 'vent_m_ppeak_mean', 'vent_m_peep_mean', 'mon_ibp_mean_std', 'vent_m_tv_exp_std', 'mon_ibp_mean_mean', 'vent_m_ppeak_lin_reg_coef', 'vent_m_ppeak_std', 'vent_m_fio2_mean', 'vent_m_rr_std', 'mon_rr_lin_reg_coef', 'vent_m_fio2_lin_reg_coef']\n"
     ]
    }
   ],
   "metadata": {}
  },
  {
   "cell_type": "code",
   "execution_count": null,
   "source": [
    "# create the prediction probability for logistic regression\r\n",
    "# probability estimate\r\n",
    "prediction=best_lr.predict_proba(X_TEST)[:,1]\r\n",
    "true_0 = (Y_TEST == 0.0)\r\n",
    "true_1 = (Y_TEST == 1.0)\r\n",
    "df_test=pd.DataFrame()\r\n",
    "df_test['prob']=best_lr.predict_proba(X_TEST)[:,1]\r\n",
    "df_test['true']=Y_TEST\r\n",
    "\r\n",
    "plt.figure(figsize=(15,7))\r\n",
    "plt.hist(df_test['prob'].loc[df_test['true']==0], bins=50, label='Negatives')\r\n",
    "plt.hist(df_test['prob'].loc[df_test['true']==1], bins=50, label='Positives', alpha=0.7, color='r')\r\n",
    "plt.xlabel('Probability of being Positive Class', fontsize=25)\r\n",
    "plt.ylabel('Number of records in each bucket', fontsize=25)\r\n",
    "plt.title('Probability distribution of best LR')\r\n",
    "plt.legend(fontsize=15)\r\n",
    "plt.tick_params(axis='both', labelsize=25, pad=5)\r\n",
    "fig=plt.gcf()\r\n",
    "pdf.savefig(fig)\r\n",
    "plt.show(fig)\r\n",
    "plt.close(fig) "
   ],
   "outputs": [],
   "metadata": {}
  },
  {
   "cell_type": "code",
   "execution_count": null,
   "source": [
    "# create the prediction probability for logistic regression\r\n",
    "# probability estimate\r\n",
    "prediction=best_rf.predict_proba(X_TRAIN)[:,1]\r\n",
    "true_0 = (Y_TEST == 0.0)\r\n",
    "true_1 = (Y_TEST == 1.0)\r\n",
    "df_test=pd.DataFrame()\r\n",
    "df_test['prob']=best_rf.predict_proba(X_TEST)[:,1]\r\n",
    "df_test['true']=Y_TEST\r\n",
    "\r\n",
    "plt.figure(figsize=(15,7))\r\n",
    "plt.hist(df_test['prob'].loc[df_test['true']==0], bins=50, label='Negatives')\r\n",
    "plt.hist(df_test['prob'].loc[df_test['true']==1], bins=50, label='Positives', alpha=0.8, color='r')\r\n",
    "plt.xlabel('Probability of being Positive Class', fontsize=25)\r\n",
    "plt.ylabel('Number of records in each bucket', fontsize=25)\r\n",
    "plt.title('Probability distribution of best RF')\r\n",
    "plt.legend(fontsize=15)\r\n",
    "plt.tick_params(axis='both', labelsize=25, pad=5)\r\n",
    "fig=plt.gcf()\r\n",
    "pdf.savefig(fig)\r\n",
    "plt.show(fig)\r\n",
    "plt.close(fig)\r\n",
    "pdf.close()"
   ],
   "outputs": [],
   "metadata": {}
  },
  {
   "cell_type": "code",
   "execution_count": null,
   "source": [],
   "outputs": [],
   "metadata": {}
  }
 ]
}